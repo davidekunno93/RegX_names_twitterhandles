{
 "cells": [
  {
   "cell_type": "code",
   "execution_count": 1,
   "id": "e39093b1",
   "metadata": {},
   "outputs": [
    {
     "name": "stdout",
     "output_type": "stream",
     "text": [
      "+=================+\n",
      "Full Name / Twitter\n",
      "+=================+\n",
      "\n",
      "Derek Hawkins / @derekhawkin\n",
      "\n",
      "Sven-Erik Osterberg / @sveri\n",
      "\n",
      "Ryan Butz / @ryanbut\n",
      "\n",
      "Example Exampleson / @exampl\n",
      "\n",
      "Ripal Pael / @ripal\n",
      "\n",
      "Darth Vader / @darthvade\n",
      "\n"
     ]
    }
   ],
   "source": [
    "import re\n",
    "\n",
    "fullname_pattern = re.compile('([A-Z][a-z]+), ([A-Z][a-z]+ ?-?[A-Z]?[a-z]+)')\n",
    "twi_pattern = re.compile('@[A-Za-z]+-?[A-Za-z]+[\\s]')\n",
    "\n",
    "def name_function(string):\n",
    "    names = string.split(\", \")\n",
    "    fname = names[1]\n",
    "    lname = names[0]\n",
    "    return fname+\" \"+lname\n",
    "\n",
    "with open(\"names.txt\") as doc:\n",
    "    dic = {}\n",
    "    lines = doc.readlines()\n",
    "    for line in lines:\n",
    "        fullname_matches = fullname_pattern.match(line)\n",
    "        twi_match = twi_pattern.findall(line)\n",
    "        if fullname_matches:\n",
    "            bkwd_name = (line[list(fullname_matches.span())[0]:list(fullname_matches.span())[1]])\n",
    "            fwd_name = (name_function(bkwd_name))\n",
    "            if twi_match:\n",
    "                dic[fwd_name] = twi_match[0][0:-2]\n",
    "    print(\"+=================+\")\n",
    "    print(\"Full Name / Twitter\")\n",
    "    print(\"+=================+\\n\")\n",
    "    for key, val in dic.items():\n",
    "        print(key+\" / \"+val+\"\\n\")\n",
    "    \n",
    "        "
   ]
  }
 ],
 "metadata": {
  "kernelspec": {
   "display_name": "Python 3 (ipykernel)",
   "language": "python",
   "name": "python3"
  },
  "language_info": {
   "codemirror_mode": {
    "name": "ipython",
    "version": 3
   },
   "file_extension": ".py",
   "mimetype": "text/x-python",
   "name": "python",
   "nbconvert_exporter": "python",
   "pygments_lexer": "ipython3",
   "version": "3.10.9"
  }
 },
 "nbformat": 4,
 "nbformat_minor": 5
}
