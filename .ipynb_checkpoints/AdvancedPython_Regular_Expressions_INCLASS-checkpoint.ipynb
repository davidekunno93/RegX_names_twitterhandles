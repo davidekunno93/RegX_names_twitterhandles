{
 "cells": [
  {
   "cell_type": "markdown",
   "metadata": {
    "id": "Ju5WaDzwMqJf"
   },
   "source": [
    "# Regular Expressions"
   ]
  },
  {
   "cell_type": "markdown",
   "metadata": {
    "id": "-d5SserSMqJi"
   },
   "source": [
    "# Tasks today:\n",
    "1) <b>Importing</b> <br>\n",
    "2) <b>Using Regular Expressions</b> <br>\n",
    " &nbsp;&nbsp;&nbsp;&nbsp; a) re.compile() <br>\n",
    " &nbsp;&nbsp;&nbsp;&nbsp; b) re.match() <br>\n",
    " &nbsp;&nbsp;&nbsp;&nbsp; c) re.findall() <br>\n",
    " &nbsp;&nbsp;&nbsp;&nbsp; d) re.search() <br>\n",
    "3) <b>Sets</b> <br>\n",
    " &nbsp;&nbsp;&nbsp;&nbsp; a) Integer Ranges <br>\n",
    " &nbsp;&nbsp;&nbsp;&nbsp; b) Character Ranges <br>\n",
    "4) <b>Counting Occurences</b> <br>\n",
    " &nbsp;&nbsp;&nbsp;&nbsp; a) {x} <br>\n",
    " &nbsp;&nbsp;&nbsp;&nbsp; b) {, x} <br>\n",
    " &nbsp;&nbsp;&nbsp;&nbsp; c) {?} <br>\n",
    " &nbsp;&nbsp;&nbsp;&nbsp; d) {*} <br>\n",
    " &nbsp;&nbsp;&nbsp;&nbsp; e) {+} <br>\n",
    "5) <b>In-Class Exercise #1</b> <br>\n",
    "6) <b>Escaping Characters</b> <br>\n",
    "7) <b>Grouping</b> <br>\n",
    "8) <b>In-Class Exercise #2</b> <br>\n",
    "9) <b>Opening a File</b> <br>\n",
    " &nbsp;&nbsp;&nbsp;&nbsp; a) open() <br>\n",
    " &nbsp;&nbsp;&nbsp;&nbsp; b) with open() <br>\n",
    " &nbsp;&nbsp;&nbsp;&nbsp; c) re.match() <br>\n",
    " &nbsp;&nbsp;&nbsp;&nbsp; d) re.search() <br>\n",
    " &nbsp;&nbsp;&nbsp;&nbsp; e) Store the String in a Variable <br>\n",
    "10) <b>Regex Project</b> <br>"
   ]
  },
  {
   "cell_type": "markdown",
   "metadata": {
    "id": "Hx3DRF4tMqJj"
   },
   "source": [
    "### Importing <br>\n",
    "<p>Regular Expressions are universal throughout most programming languages... They are generally imported through the module 're'.</p>"
   ]
  },
  {
   "cell_type": "code",
   "execution_count": 3,
   "metadata": {
    "id": "ibT1doeHMqJj"
   },
   "outputs": [],
   "source": [
    "# import re\n",
    "import re"
   ]
  },
  {
   "cell_type": "markdown",
   "metadata": {
    "id": "MxS5IvSLMqJk"
   },
   "source": [
    "### Using Regular Expressions <br>\n",
    "<p>Regular expressions give us the ability to search for patterns within text, strings, files, etc. They serve several uses, such as; security measures, searching, filtering, pattern recognition, and more...</p>"
   ]
  },
  {
   "cell_type": "markdown",
   "metadata": {
    "id": "ajZEthpaMqJk"
   },
   "source": [
    "##### re.compile()"
   ]
  },
  {
   "cell_type": "code",
   "execution_count": 4,
   "metadata": {
    "id": "M-xT77vYMqJk"
   },
   "outputs": [],
   "source": [
    "# using compile, predetermines the string to be used in regular expression methods\n",
    "\n",
    "# establish pattern\n",
    "pattern = re.compile('abc')"
   ]
  },
  {
   "cell_type": "markdown",
   "metadata": {
    "id": "6IlNWkRsMqJl"
   },
   "source": [
    "##### re.match()"
   ]
  },
  {
   "cell_type": "code",
   "execution_count": 7,
   "metadata": {
    "id": "fxvyULeHMqJl"
   },
   "outputs": [
    {
     "name": "stdout",
     "output_type": "stream",
     "text": [
      "<re.Match object; span=(0, 3), match='abc'>\n"
     ]
    }
   ],
   "source": [
    "# match method returns index span of any matches found, ONLY IF the match starts from index 0 only\n",
    "match = pattern.match('abcdefghijklmnopqrstuvwxyz')\n",
    "print(match)"
   ]
  },
  {
   "cell_type": "markdown",
   "metadata": {
    "id": "JJugrUY8MqJl"
   },
   "source": [
    "##### re.findall()"
   ]
  },
  {
   "cell_type": "code",
   "execution_count": 11,
   "metadata": {
    "id": "Lx6Ls3kfMqJl"
   },
   "outputs": [
    {
     "name": "stdout",
     "output_type": "stream",
     "text": [
      "['abc', 'abc', 'abc']\n",
      "Help on function findall in module re:\n",
      "\n",
      "findall(pattern, string, flags=0)\n",
      "    Return a list of all non-overlapping matches in the string.\n",
      "    \n",
      "    If one or more capturing groups are present in the pattern, return\n",
      "    a list of groups; this will be a list of tuples if the pattern\n",
      "    has more than one group.\n",
      "    \n",
      "    Empty matches are included in the result.\n",
      "\n"
     ]
    }
   ],
   "source": [
    "# findall will dig thru entire string and find all pattern matches, returning the pattern as a string for as many times it is matches\n",
    "match = pattern.findall('bnabcdefghijklmnoabcpqrstuvwxyzabc')\n",
    "print(match)\n",
    "help(re.findall)"
   ]
  },
  {
   "cell_type": "markdown",
   "metadata": {
    "id": "eiBjs86wMqJm"
   },
   "source": [
    "##### re.search()"
   ]
  },
  {
   "cell_type": "code",
   "execution_count": 9,
   "metadata": {
    "id": "MYbzZsF-MqJm"
   },
   "outputs": [
    {
     "name": "stdout",
     "output_type": "stream",
     "text": [
      "<re.Match object; span=(2, 5), match='abc'>\n"
     ]
    }
   ],
   "source": [
    "# search will dig thru the entire string and find the FIRST pattern match that exist, returning the span\n",
    "match = pattern.search('bnabcdefghijklmnopqrstuvwxyzabc')\n",
    "print(match)"
   ]
  },
  {
   "cell_type": "markdown",
   "metadata": {
    "id": "p97yy9jGMqJm"
   },
   "source": [
    "### Sets <br>\n",
    "<p>The following cells will allow you to use regular expressions to search for certain values within a range such as numbers 1 through 4.</p>"
   ]
  },
  {
   "cell_type": "markdown",
   "metadata": {
    "id": "-fN6F-aGMqJm"
   },
   "source": [
    "##### [a-z] or [A-Z] - any lowercase/uppercase letters from a to z<br/>[^2] - anything that's not 2"
   ]
  },
  {
   "cell_type": "markdown",
   "metadata": {
    "id": "3NMfqyFCMqJm"
   },
   "source": [
    "##### Integer Ranges"
   ]
  },
  {
   "cell_type": "code",
   "execution_count": 13,
   "metadata": {
    "id": "39B2KtGaMqJm"
   },
   "outputs": [
    {
     "name": "stdout",
     "output_type": "stream",
     "text": [
      "<re.Match object; span=(0, 3), match='340'>\n",
      "['340', '432', '545', '051', '425', '553']\n"
     ]
    }
   ],
   "source": [
    "pattern = re.compile('[0-5][0-5][0-5]')\n",
    "\n",
    "nums = '34043254580805159425553'\n",
    "\n",
    "matches = pattern.search(nums)\n",
    "print(matches)\n",
    "match_series = pattern.findall(nums)\n",
    "print(match_series)\n"
   ]
  },
  {
   "cell_type": "markdown",
   "metadata": {
    "id": "2bDZPNPGMqJm"
   },
   "source": [
    "##### Character Ranges"
   ]
  },
  {
   "cell_type": "code",
   "execution_count": 14,
   "metadata": {
    "id": "FBv5-suFMqJm"
   },
   "outputs": [
    {
     "name": "stdout",
     "output_type": "stream",
     "text": [
      "['Ho', 'Ca', 'Mi', 'Be', 'Re']\n"
     ]
    }
   ],
   "source": [
    "pattern = re.compile('[A-Z][a-z]')\n",
    "\n",
    "sentence = \"How Can Mirrors Be Real\"\n",
    "\n",
    "matches = pattern.findall(sentence)\n",
    "print(matches)"
   ]
  },
  {
   "cell_type": "markdown",
   "metadata": {
    "id": "ZcGtWM1FMqJn"
   },
   "source": [
    "### Counting Occurences"
   ]
  },
  {
   "cell_type": "markdown",
   "metadata": {
    "id": "EjPe-To9MqJn"
   },
   "source": [
    "##### {x} - something that occurs {num_of_times}"
   ]
  },
  {
   "cell_type": "code",
   "execution_count": null,
   "metadata": {
    "id": "5UYZnO6CMqJn"
   },
   "outputs": [],
   "source": [
    "# {x} takes the last pattern bit and asks for the pattern to include x times of that bit\n",
    "pattern = re.compile('[A-Z][a-z][0-9]{3}')"
   ]
  },
  {
   "cell_type": "markdown",
   "metadata": {
    "id": "X0Pp2a0hMqJn"
   },
   "source": [
    "##### {x, x} - something that occurs between x and x times"
   ]
  },
  {
   "cell_type": "code",
   "execution_count": null,
   "metadata": {
    "id": "pUx-B0LmMqJn"
   },
   "outputs": [],
   "source": [
    "# {x - y} takes the last pattern bit and asks for the pattern to include from as low as x to as high as y times of that bit\n",
    "pattern = re.compile('[A-Z][a-z][0-9]{1,3}')"
   ]
  },
  {
   "cell_type": "markdown",
   "metadata": {
    "id": "82HfnWcDMqJn"
   },
   "source": [
    "##### ? - something that occurs 0 or 1 time"
   ]
  },
  {
   "cell_type": "code",
   "execution_count": null,
   "metadata": {
    "id": "xWQU6SouMqJn"
   },
   "outputs": [],
   "source": [
    "# ? says the last pattern bit can occur once or not at all, either way is fine\n",
    "prefix = re.compile('Mrs?')"
   ]
  },
  {
   "cell_type": "markdown",
   "metadata": {
    "id": "2MTAAoHMMqJn"
   },
   "source": [
    "##### * - something that occurs at least 0 times"
   ]
  },
  {
   "cell_type": "code",
   "execution_count": null,
   "metadata": {
    "id": "sfvMukGwMqJn"
   },
   "outputs": [],
   "source": [
    "# * says the last pattern bit can or cannot occur, either way is fine\n",
    "prefix = re.compile('Mrs*')"
   ]
  },
  {
   "cell_type": "markdown",
   "metadata": {
    "id": "udo_RcaWMqJn"
   },
   "source": [
    "##### + - something that occurs at least once"
   ]
  },
  {
   "cell_type": "code",
   "execution_count": null,
   "metadata": {
    "id": "jez_HJCIMqJo"
   },
   "outputs": [],
   "source": [
    "# + says the last pattern bit can occur once or more times \n",
    "prefix = re.compile('Mrs+')"
   ]
  },
  {
   "cell_type": "markdown",
   "metadata": {
    "id": "Z6fzPkPaMqJo"
   },
   "source": [
    "##### In-class exercise 1:\n",
    "\n",
    "Use a regular expression to find every number in the given string"
   ]
  },
  {
   "cell_type": "code",
   "execution_count": 15,
   "metadata": {
    "id": "sTKsKonaMqJo"
   },
   "outputs": [
    {
     "data": {
      "text/plain": [
       "['10909090', '1', '2']"
      ]
     },
     "execution_count": 15,
     "metadata": {},
     "output_type": "execute_result"
    }
   ],
   "source": [
    "my_string = \"This string has 10909090 numbers, but it is only 1 string. I hope you solve this 2day.\"\n",
    "\n",
    "# Output: ['10909090','1',2]\n",
    "\n",
    "pattern = re.compile('[0-9]+')\n",
    "pattern.findall(my_string)\n"
   ]
  },
  {
   "cell_type": "markdown",
   "metadata": {
    "id": "fcIPjAu7MqJo"
   },
   "source": [
    "### Escaping Characters"
   ]
  },
  {
   "cell_type": "markdown",
   "metadata": {
    "id": "WGT07S6iMqJo"
   },
   "source": [
    "##### \\w - look for any Unicode character<br/>\\W - look for anything that isnt a Unicode character\n",
    "\n",
    "[History on Unicode](http://unicode.org/standard/WhatIsUnicode.html)\n",
    "\n",
    "[More on Unicode Characters](https://en.wikipedia.org/wiki/List_of_Unicode_characters)"
   ]
  },
  {
   "cell_type": "code",
   "execution_count": null,
   "metadata": {
    "id": "YY7cgR8DMqJo"
   },
   "outputs": [],
   "source": [
    "pattern = re.compile('[\\w]+')\n",
    "pattern2 = re.compile('[\\W]+')\n",
    "pattern.findall(string)\n",
    "pattern2.findall(string)\n",
    "print(pattern+'\\n'+pattern2)"
   ]
  },
  {
   "cell_type": "markdown",
   "metadata": {
    "id": "6YcyGLGzMqJo"
   },
   "source": [
    "\\d - look for any digit 0-9\n",
    "\\D - look for anything that isnt a digit"
   ]
  },
  {
   "cell_type": "code",
   "execution_count": null,
   "metadata": {
    "id": "-UIiuc7nMqJo"
   },
   "outputs": [],
   "source": [
    "pattern = re.compile('[\\d]+')\n",
    "pattern2 = re.compile('[\\D]+')\n",
    "pattern.findall(string)\n",
    "pattern2.findall(string)\n",
    "print(pattern+'\\n'+pattern2)"
   ]
  },
  {
   "cell_type": "markdown",
   "metadata": {
    "id": "kHRcjbmLMqJo"
   },
   "source": [
    "##### \\s - look for any white space<br/>\\S - look for anything that isnt whitespace"
   ]
  },
  {
   "cell_type": "code",
   "execution_count": 16,
   "metadata": {
    "id": "9DXUrLgwMqJo"
   },
   "outputs": [],
   "source": [
    "\n",
    "pattern = re.compile('[\\s]+')\n",
    "pattern2 = re.compile('[\\S]+')\n",
    "pattern.findall(string)\n",
    "pattern2.findall(string)\n",
    "print(pattern+'\\n'+pattern2)"
   ]
  },
  {
   "cell_type": "markdown",
   "metadata": {
    "id": "1lLZdHt3MqJr"
   },
   "source": [
    "##### \\b - look for boundaries or edges of a word<br/>\\B - look for anything that isnt a boundary"
   ]
  },
  {
   "cell_type": "code",
   "execution_count": null,
   "metadata": {
    "id": "_KxD_QNKMqJr"
   },
   "outputs": [],
   "source": [
    "pattern = re.compile('[\\b]+')\n",
    "pattern2 = re.compile('[\\B]+')\n",
    "pattern.findall(string)\n",
    "pattern2.findall(string)\n",
    "print(pattern+'\\n'+pattern2)"
   ]
  },
  {
   "cell_type": "markdown",
   "metadata": {
    "id": "zViO2X3dMqJr"
   },
   "source": [
    "### Grouping"
   ]
  },
  {
   "cell_type": "code",
   "execution_count": 71,
   "metadata": {
    "id": "91zsPoYcMqJr"
   },
   "outputs": [
    {
     "name": "stdout",
     "output_type": "stream",
     "text": [
      "Max Smith\n",
      "<re.Match object; span=(0, 9), match='Max Smith'>\n",
      "Groups=Max Smith\n",
      "Group(1)=Max\n",
      "Group(2)=Smith\n",
      " aaron rodgers\n",
      "None\n",
      "Nothing to see here\n",
      " Sam Darnold\n",
      "None\n",
      "Nothing to see here\n",
      "LeBron James\n",
      "<re.Match object; span=(0, 12), match='LeBron James'>\n",
      "Groups=LeBron James\n",
      "Group(1)=LeBron\n",
      "Group(2)=James\n",
      " Micheal Jordan\n",
      "None\n",
      "Nothing to see here\n",
      " Kevin Durant\n",
      "None\n",
      "Nothing to see here\n",
      " Patrick McCormick\n",
      "None\n",
      "Nothing to see here\n"
     ]
    }
   ],
   "source": [
    "my_string_again = \"Max Smith, aaron rodgers, Sam Darnold,LeBron James, Micheal Jordan, Kevin Durant, Patrick McCormick\"\n",
    "\n",
    "# Group of names Regular Expression Compiler\n",
    "# 'groups' are defined inside () of the compile method argument\n",
    "name_pat = re.compile('(?P<first_name>[A-Za-z][A-Za-z]+) (?P<last_name>[A-Za-z][A-Za-z]+)')\n",
    "matches = name_pat.findall(my_string_again)\n",
    "# print(matches)\n",
    "\n",
    "for names in my_string_again.split(','):\n",
    "    print(names)\n",
    "    match = name_pat.match(names)\n",
    "    print(match)\n",
    "    if match:\n",
    "        print(f\"Groups={match.group()}\")\n",
    "        print(f\"Group(1)={match.group(1)}\")\n",
    "        print(f\"Group(2)={match.group(2)}\")\n",
    "    else:\n",
    "        print(\"Nothing to see here\")"
   ]
  },
  {
   "cell_type": "markdown",
   "metadata": {
    "id": "naLJjRtkMqJr"
   },
   "source": [
    "##### In-class Exercise 2:\n",
    "\n",
    "Write a function using regular expressions to find the domain name in the given email addresses (and return None for the invalid email addresses)<br><b>HINT: Use '|' for either or</b>"
   ]
  },
  {
   "cell_type": "code",
   "execution_count": null,
   "metadata": {
    "id": "h6s8cXcCMqJr"
   },
   "outputs": [],
   "source": [
    "my_emails = [\"shohat@codingcodingsummit.orgcom\", \"pocohontas1776@gmail.com\", \"helloworld@aol..com\",\n",
    "             \"yourfavoriteband@g6.org\", \"@codingsummit.com\"]\n",
    "\n",
    "# You can also use the $ at the end of your compile expression -- this stops the search\n",
    "\n",
    "#Expected output:\n",
    "#None\n",
    "#pocohontas1776@gmail.com\n",
    "#None\n",
    "#yourfavoriteband@g6.org\n",
    "#None\n",
    "\n",
    "e_pattern = re.compile('([A-Za-z0-9]+)@([A-Za-z]+).(___)')"
   ]
  },
  {
   "cell_type": "markdown",
   "metadata": {
    "id": "8AuOPGZAMqJr"
   },
   "source": [
    "### Opening a File <br>\n",
    "<p>Python gives us a couple ways to import files, below are the two used most often.</p>"
   ]
  },
  {
   "cell_type": "markdown",
   "metadata": {
    "id": "0n-nGGYRMqJs"
   },
   "source": [
    "##### open()"
   ]
  },
  {
   "cell_type": "code",
   "execution_count": null,
   "metadata": {
    "id": "1zG-9p5TMqJs"
   },
   "outputs": [],
   "source": [
    "# when using open - remember to close\n",
    "f = open(\"names.txt\")\n",
    "print(f)\n",
    "data = f.read()\n",
    "print(data)\n",
    "f.close"
   ]
  },
  {
   "cell_type": "markdown",
   "metadata": {
    "id": "74MQXlP2MqJs"
   },
   "source": [
    "##### with open()"
   ]
  },
  {
   "cell_type": "code",
   "execution_count": 36,
   "metadata": {
    "id": "vFI4eFg8MqJs"
   },
   "outputs": [
    {
     "name": "stdout",
     "output_type": "stream",
     "text": [
      "Hawkins, Derek\tderek@codingtemple.com\t(555) 555-5555\tTeacher, Coding Temple\t@derekhawkins\n",
      "Zhai, Mo\tmozhai@codingtemple.com\t(555) 555-5554\tTeacher, Coding Temple\n",
      "Johnson, Joe\tjoejohnson@codingtemple.com\t\tJohson, Joe\n",
      "Osterberg, Sven-Erik\tgovernor@norrbotten.co.se\t\tGovernor, Norrbotten\t@sverik\n",
      ", Tim\ttim@killerrabbit.com\t\tEnchanter, Killer Rabbit Cave\n",
      "Butz, Ryan\tryanb@codingtemple.com\t(555) 555-5543\tCEO, Coding Temple\t@ryanbutz\n",
      "Doctor, The\tdoctor+companion@tardis.co.uk\t\tTime Lord, Gallifrey\n",
      "Exampleson, Example\tme@example.com\t555-555-5552\tExample, Example Co.\t@example\n",
      "Pael, Ripal\tripalp@codingtemple.com\t(555) 555-5553\tTeacher, Coding Temple\t@ripalp\n",
      "Vader, Darth\tdarth-vader@empire.gov\t(555) 555-4444\tSith Lord, Galactic Empire\t@darthvader\n",
      "Fernandez de la Vega Sanz, Maria Teresa\tmtfvs@spain.gov\t\tFirst Deputy Prime Minister, Spanish Gov\n",
      "\n",
      "Hawkins, Derek\tderek@codingtemple.com\t(555) 555-5555\tTeacher, Coding Temple\t@derekhawkins\n",
      "\n",
      "Zhai, Mo\tmozhai@codingtemple.com\t(555) 555-5554\tTeacher, Coding Temple\n",
      "\n",
      "Johnson, Joe\tjoejohnson@codingtemple.com\t\tJohson, Joe\n",
      "\n",
      "Osterberg, Sven-Erik\tgovernor@norrbotten.co.se\t\tGovernor, Norrbotten\t@sverik\n",
      "\n",
      ", Tim\ttim@killerrabbit.com\t\tEnchanter, Killer Rabbit Cave\n",
      "\n",
      "Butz, Ryan\tryanb@codingtemple.com\t(555) 555-5543\tCEO, Coding Temple\t@ryanbutz\n",
      "\n",
      "Doctor, The\tdoctor+companion@tardis.co.uk\t\tTime Lord, Gallifrey\n",
      "\n",
      "Exampleson, Example\tme@example.com\t555-555-5552\tExample, Example Co.\t@example\n",
      "\n",
      "Pael, Ripal\tripalp@codingtemple.com\t(555) 555-5553\tTeacher, Coding Temple\t@ripalp\n",
      "\n",
      "Vader, Darth\tdarth-vader@empire.gov\t(555) 555-4444\tSith Lord, Galactic Empire\t@darthvader\n",
      "\n",
      "Fernandez de la Vega Sanz, Maria Teresa\tmtfvs@spain.gov\t\tFirst Deputy Prime Minister, Spanish Gov\n",
      "\n"
     ]
    }
   ],
   "source": [
    "# when using with open, you don't have to remember to close\n",
    "with open(\"names.txt\") as f:\n",
    "    data = f.read()\n",
    "    print(data)\n",
    "    \n",
    "with open(\"names.txt\") as f:\n",
    "    data2 = f.readlines()\n",
    "#     print(data2)\n",
    "    for line in data2:\n",
    "        print(line)"
   ]
  },
  {
   "cell_type": "markdown",
   "metadata": {
    "id": "5lessu6fMqJs"
   },
   "source": [
    "##### re.match()"
   ]
  },
  {
   "cell_type": "code",
   "execution_count": null,
   "metadata": {
    "id": "uRIyxy62MqJs"
   },
   "outputs": [],
   "source": [
    "with open(\"names.txt\") as f:\n",
    "    data2 = f.readlines()\n",
    "#     print(data2)\n",
    "    for line in data2:\n",
    "        print(line)"
   ]
  },
  {
   "cell_type": "markdown",
   "metadata": {
    "id": "j_N_Iue-MqJs"
   },
   "source": [
    "##### re.search()"
   ]
  },
  {
   "cell_type": "code",
   "execution_count": null,
   "metadata": {
    "id": "uB6eu8MzMqJs"
   },
   "outputs": [],
   "source": []
  },
  {
   "cell_type": "markdown",
   "metadata": {
    "id": "cQ_y82LTMqJs"
   },
   "source": [
    "##### Store the String to a Variable"
   ]
  },
  {
   "cell_type": "code",
   "execution_count": null,
   "metadata": {
    "id": "CO1hQd6wMqJs"
   },
   "outputs": [],
   "source": []
  },
  {
   "cell_type": "markdown",
   "metadata": {
    "id": "dM2BEgBRMqJt"
   },
   "source": [
    "### Exercise #1 <br>\n",
    "<p>Print each persons name and twitter handle, using groups, should look like:</p>\n",
    "<p>==============<br>\n",
    "   Full Name / Twitter<br>\n",
    "   ==============</p>\n",
    "Shoha Tsuchida / @shoha-tsuchida\n",
    "\n",
    "Daniel Le / @le\n",
    "\n",
    " Erik Sven-Osterberg / @sverik\n",
    "\n",
    " Shinha T / @shinha\n",
    "\n",
    " Example Exampleson / @example\n",
    "\n",
    " Shokou Okano / @sho\n",
    "\n",
    " Darth Vader / @darthvader"
   ]
  },
  {
   "cell_type": "code",
   "execution_count": 84,
   "metadata": {
    "id": "f396o377MqJt"
   },
   "outputs": [
    {
     "name": "stdout",
     "output_type": "stream",
     "text": [
      "Hawkins, Derek\n",
      "[]\n",
      "Johnson, Joe\n",
      "[]\n",
      "Osterberg, Sven-Erik\n",
      "[]\n",
      "Butz, Ryan\n",
      "[]\n",
      "Doctor, The\n",
      "[]\n",
      "Exampleson, Example\n",
      "[]\n",
      "Pael, Ripal\n",
      "[]\n",
      "Vader, Darth\n",
      "[]\n"
     ]
    }
   ],
   "source": [
    "import re\n",
    "\n",
    "name_pattern = re.compile('[A-Z][a-z]+')\n",
    "fullname_pattern = re.compile('([A-Z][a-z]+), ([A-Z][a-z]+ ?-?[A-Z]?[a-z]+)')\n",
    "twi_pattern = re.compile('@[A-Za-z]+-?[A-Za-z]+[\\s]')\n",
    "\n",
    "with open(\"names.txt\") as doc:\n",
    "    lines = doc.readlines()\n",
    "#     for line in lines:\n",
    "#         matches = name_pattern.match(line)\n",
    "#         if matches:\n",
    "#             print(line[list(matches.span())[0]:list(matches.span())[1]])\n",
    "    for line in lines:\n",
    "        fullname_matches = fullname_pattern.match(line)\n",
    "        twi_matches = twi_pattern.findall(line)\n",
    "        if fullname_matches:\n",
    "            print(line[list(fullname_matches.span())[0]:list(fullname_matches.span())[1]])\n",
    "            print(twi_matches)\n",
    "    \n",
    "        "
   ]
  },
  {
   "cell_type": "markdown",
   "metadata": {
    "id": "HA7OUxwfMqJt"
   },
   "source": [
    "### Regex project\n",
    "\n",
    "Use python to read the file regex_test.txt and print the last name on each line using regular expressions and groups (return None for names with no first and last name, or names that aren't properly capitalized)\n",
    "##### Hint: use with open() and readlines()"
   ]
  },
  {
   "cell_type": "code",
   "execution_count": null,
   "metadata": {
    "id": "C74SKGf7MqJt",
    "outputId": "27b8b605-0bad-473f-b49c-a64faa584bb7"
   },
   "outputs": [
    {
     "data": {
      "text/plain": [
       "'\\nExpected Output\\nAbraham Lincoln\\nAndrew P Garfield\\nConnor Milliken\\nJordan Alexander Williams\\nNone\\nNone\\n'"
      ]
     },
     "execution_count": 3,
     "metadata": {},
     "output_type": "execute_result"
    }
   ],
   "source": [
    "\"\"\"\n",
    "Expected Output\n",
    "Abraham Lincoln\n",
    "Andrew P Garfield\n",
    "Connor Milliken\n",
    "Jordan Alexander Williams\n",
    "None\n",
    "None\n",
    "\"\"\""
   ]
  },
  {
   "cell_type": "code",
   "execution_count": null,
   "metadata": {
    "id": "M7QF22zsMqJt"
   },
   "outputs": [],
   "source": [
    "import re"
   ]
  },
  {
   "cell_type": "code",
   "execution_count": null,
   "metadata": {
    "id": "61F88gOiMqJu"
   },
   "outputs": [],
   "source": []
  },
  {
   "cell_type": "code",
   "execution_count": null,
   "metadata": {
    "id": "kWG08-f6MqJu"
   },
   "outputs": [],
   "source": [
    "\n",
    "\n",
    "\n",
    "\n"
   ]
  }
 ],
 "metadata": {
  "colab": {
   "provenance": []
  },
  "kernelspec": {
   "display_name": "Python 3 (ipykernel)",
   "language": "python",
   "name": "python3"
  },
  "language_info": {
   "codemirror_mode": {
    "name": "ipython",
    "version": 3
   },
   "file_extension": ".py",
   "mimetype": "text/x-python",
   "name": "python",
   "nbconvert_exporter": "python",
   "pygments_lexer": "ipython3",
   "version": "3.10.9"
  }
 },
 "nbformat": 4,
 "nbformat_minor": 1
}
