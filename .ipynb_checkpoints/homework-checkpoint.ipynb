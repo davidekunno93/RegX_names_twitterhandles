{
 "cells": [
  {
   "cell_type": "code",
   "execution_count": 9,
   "id": "e39093b1",
   "metadata": {},
   "outputs": [
    {
     "name": "stdout",
     "output_type": "stream",
     "text": [
      "+=================+\n",
      "Full Name / Twitter\n",
      "+=================+\n",
      "\n",
      "Derek Hawkins / @derekhawkin\n",
      "\n",
      "Sven-Erik Osterberg / @sveri\n",
      "\n",
      "Ryan Butz / @ryanbut\n",
      "\n",
      "Example Exampleson / @exampl\n",
      "\n",
      "Ripal Pael / @ripal\n",
      "\n",
      "Darth Vader / @darthvade\n",
      "\n"
     ]
    }
   ],
   "source": [
    "# Ex 1: Print each persons name and twitter handle, using groups\n",
    "\n",
    "import re\n",
    "\n",
    "fullname_pattern = re.compile('([A-Z][a-z]+), ([A-Z][a-z]+ ?-?[A-Z]?[a-z]+)')\n",
    "twitter_pattern = re.compile('@[A-Za-z]+-?[A-Za-z]+[\\s]')\n",
    "\n",
    "with open(\"names.txt\") as doc:\n",
    "    dic = {}\n",
    "    lines = doc.readlines()\n",
    "    for line in lines:\n",
    "        fullname_matches = fullname_pattern.match(line)\n",
    "        twitter_match = twitter_pattern.findall(line)\n",
    "        if fullname_matches:\n",
    "            name = fullname_matches.group(2)+\" \"+fullname_matches.group(1)\n",
    "            if twitter_match:\n",
    "                dic[name] = twitter_match[0][0:-2]\n",
    "    print(\"+=================+\")\n",
    "    print(\"Full Name / Twitter\")\n",
    "    print(\"+=================+\\n\")\n",
    "    for key, val in dic.items():\n",
    "        print(key+\" / \"+val+\"\\n\")\n",
    "    \n",
    "        "
   ]
  },
  {
   "cell_type": "code",
   "execution_count": 2,
   "id": "680f3a5d",
   "metadata": {},
   "outputs": [
    {
     "name": "stdout",
     "output_type": "stream",
     "text": [
      "Abraham Lincoln\n",
      "Andrew P Garfield\n",
      "Connor Milliken\n",
      "Jordan Alexander Williams\n",
      "None\n",
      "None\n"
     ]
    }
   ],
   "source": [
    "# Ex 2: Using the file attached and the jupyter notebook complete the Inclass exercise \n",
    "# and the question at the bottom of the jupyter notebook file\n",
    "\n",
    "import re\n",
    "\n",
    "name_pattern = re.compile('([A-Z][a-z]*) ?([A-Z][a-z]* ?[A-Z]?[a-z]*)')\n",
    "\n",
    "with open('regex_test.txt') as file:\n",
    "    lines = file.readlines()\n",
    "    for line in lines:\n",
    "        fullname = name_pattern.findall(line)\n",
    "        if fullname:\n",
    "            print(*fullname[0])\n",
    "        else:\n",
    "            print(\"None\")\n",
    "        "
   ]
  }
 ],
 "metadata": {
  "kernelspec": {
   "display_name": "Python 3 (ipykernel)",
   "language": "python",
   "name": "python3"
  },
  "language_info": {
   "codemirror_mode": {
    "name": "ipython",
    "version": 3
   },
   "file_extension": ".py",
   "mimetype": "text/x-python",
   "name": "python",
   "nbconvert_exporter": "python",
   "pygments_lexer": "ipython3",
   "version": "3.10.9"
  }
 },
 "nbformat": 4,
 "nbformat_minor": 5
}
